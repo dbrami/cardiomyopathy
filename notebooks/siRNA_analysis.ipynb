{
 "cells": [
  {
   "cell_type": "markdown",
   "metadata": {},
   "source": [
    "# Analysis of Cardiac Myopathy and RNA Therapeutics using DNABERT\n",
    "\n",
    "This notebook demonstrates an end-to-end analysis pipeline that integrates multiple data sources relevant to cardiac myopathy and RNA therapeutics. We will:\n",
    "\n",
    "- Load RNA-seq data from GEO (GSE55296) to examine gene expression differences in heart tissue.\n",
    "- Process GTEx data (RNA-seq TPM, sample attributes, and subject phenotypes) to extract heart-specific expression profiles.\n",
    "- Read in the human reference genome (GRCh38) to enable extraction of nucleotide sequences for target genes.\n",
    "- Outline preliminary steps for using DNABERT_2 (and its DNABERT‑S foundation model) for generating DNA embeddings and classifying on-target/off-target siRNA binding sites.\n",
    "\n",
    "The following sections provide detailed code and explanations."
   ]
  },
  {
   "cell_type": "markdown",
   "metadata": {},
   "source": [
    "## 1. Importing Libraries\n",
    "\n",
    "We first import the necessary Python libraries. We use `pandas` for data manipulation, `matplotlib` for visualization, and `Bio` (Biopython) for parsing FASTA files. Additional libraries (such as `numpy`) will help with numerical operations."
   ]
  },
  {
   "cell_type": "code",
   "execution_count": null,
   "metadata": {},
   "outputs": [],
   "source": [
    "import os\n",
    "import pandas as pd\n",
    "import numpy as np\n",
    "import matplotlib.pyplot as plt\n",
    "from Bio import SeqIO\n",
    "\n",
    "# Set matplotlib style for clarity\n",
    "plt.style.use('default')\n",
    "\n",
    "print(\"Libraries imported successfully.\")"
   ]
  },
  {
   "cell_type": "markdown",
   "metadata": {},
   "source": [
    "## 2. Data Directory Structure\n",
    "\n",
    "We assume that the data has been downloaded using the provided `data_download.sh` script, which creates the following directories:\n",
    "\n",
    "- `data/geo/` for the GEO RNA-seq series matrix file (GSE55296)\n",
    "- `data/encode/` for ENCODE data (manual download required)\n",
    "- `data/gtex/` for GTEx files (RNA-seq TPM data, sample attributes, subject phenotypes)\n",
    "- `data/reference/` for the human reference genome (GRCh38)\n",
    "\n",
    "Let’s confirm that these directories and files exist."
   ]
  },
  {
   "cell_type": "code",
   "execution_count": null,
   "metadata": {},
   "outputs": [],
   "source": [
    "base_dir = 'data'\n",
    "subdirs = ['geo', 'encode', 'gtex', 'reference']\n",
    "\n",
    "for sub in subdirs:\n",
    "    path = os.path.join(base_dir, sub)\n",
    "    print(f\"{path}:\", os.listdir(path) if os.path.exists(path) else \"Directory not found\")"
   ]
  },
  {
   "cell_type": "markdown",
   "metadata": {},
   "source": [
    "## 3. Loading and Processing GEO RNA-seq Data (GSE55296)\n",
    "\n",
    "The GEO series matrix file contains gene expression data from heart tissue samples (including patients with cardiomyopathy and controls). In this example, we load the text file and inspect its header information. Note that the series matrix file is a tab-delimited text file with metadata lines starting with an exclamation mark (`!`).\n",
    "\n",
    "For deeper analysis, you may need to parse the sample information and extract the actual gene expression matrix."
   ]
  },
  {
   "cell_type": "code",
   "execution_count": null,
   "metadata": {},
   "outputs": [],
   "source": [
    "# Define path to the GEO series matrix file\n",
    "geo_file = os.path.join('data', 'geo', 'GSE55296_series_matrix.txt')\n",
    "\n",
    "with open(geo_file, 'r') as f:\n",
    "    lines = f.readlines()\n",
    "\n",
    "# Print the first 20 lines to inspect metadata\n",
    "for line in lines[:20]:\n",
    "    print(line.strip())\n",
    "\n",
    "# Note: Further parsing is required to extract the data matrix from the file."
   ]
  },
  {
   "cell_type": "markdown",
   "metadata": {},
   "source": [
    "## 4. Loading and Processing GTEx Data\n",
    "\n",
    "The GTEx project provides several files. We load the following:\n",
    "\n",
    "1. **RNA-seq Gene TPM Data (GCT format):** This file contains TPM values for all genes across samples. The first two rows are header information.\n",
    "2. **Sample Attributes:** Contains metadata (including tissue type) for each sample.\n",
    "3. **Subject Phenotypes:** Contains phenotypic data for GTEx donors (optional for this analysis).\n",
    "\n",
    "We then filter the sample attributes to extract only the heart tissues: \"Heart - Left Ventricle\" and \"Heart - Atrial Appendage.\""
   ]
  },
  {
   "cell_type": "code",
   "execution_count": null,
   "metadata": {},
   "outputs": [],
   "source": [
    "import gzip\n",
    "\n",
    "## 4.1 Load GTEx RNA-seq TPM Data\n",
    "gtex_tpm_file = os.path.join('data', 'gtex', 'GTEx_Analysis_v8_RNA-seq_RNA-SeQCv1.1.9_gene_tpm.gct.gz')\n",
    "\n",
    "# GCT files have 2 header rows. We use pandas to read the file, skipping the first 2 rows.\n",
    "gtex_df = pd.read_csv(gtex_tpm_file, sep='\\t', skiprows=2)\n",
    "print(\"GTEx TPM Data shape:\", gtex_df.shape)\n",
    "print(gtex_df.head())\n",
    "\n",
    "## 4.2 Load GTEx Sample Attributes\n",
    "sample_attr_file = os.path.join('data', 'gtex', 'GTEx_Analysis_v8_Annotations_SampleAttributesDS.txt')\n",
    "sample_attr_df = pd.read_csv(sample_attr_file, sep='\\t')\n",
    "print(\"Sample Attributes shape:\", sample_attr_df.shape)\n",
    "print(sample_attr_df.head())\n",
    "\n",
    "## 4.3 Load GTEx Subject Phenotypes (Optional)\n",
    "subject_phen_file = os.path.join('data', 'gtex', 'GTEx_Analysis_v8_Annotations_SubjectPhenotypesDS.txt')\n",
    "subject_phen_df = pd.read_csv(subject_phen_file, sep='\\t')\n",
    "print(\"Subject Phenotypes shape:\", subject_phen_df.shape)\n",
    "print(subject_phen_df.head())"
   ]
  },
  {
   "cell_type": "markdown",
   "metadata": {},
   "source": [
    "### Filtering GTEx Data for Heart Tissues\n",
    "\n",
    "We use the sample attributes file to filter for heart samples. Specifically, we look for samples where the `SMTSD` (Sample Tissue Description) column has either \"Heart - Left Ventricle\" or \"Heart - Atrial Appendage.\""
   ]
  },
  {
   "cell_type": "code",
   "execution_count": null,
   "metadata": {},
   "outputs": [],
   "source": [
    "# Filter sample attributes for heart tissues\n",
    "heart_samples = sample_attr_df[sample_attr_df['SMTSD'].isin(['Heart - Left Ventricle', 'Heart - Atrial Appendage'])]\n",
    "print(\"Number of heart tissue samples:\", heart_samples.shape[0])\n",
    "\n",
    "# Display a few examples\n",
    "heart_samples[['SAMPID', 'SMTSD']].head()"
   ]
  },
  {
   "cell_type": "markdown",
   "metadata": {},
   "source": [
    "### Extracting Heart Expression Data\n",
    "\n",
    "Now that we have the list of heart sample IDs (SAMPID), we filter the GTEx TPM data to retain only the columns corresponding to these samples. The first two columns in the GCT file are typically identifiers (e.g., `Name` and `Description`)."
   ]
  },
  {
   "cell_type": "code",
   "execution_count": null,
   "metadata": {},
   "outputs": [],
   "source": [
    "# Get list of heart sample IDs\n",
    "heart_sample_ids = heart_samples['SAMPID'].tolist()\n",
    "\n",
    "# Select identifier columns and heart sample columns\n",
    "cols_to_keep = ['Name', 'Description'] + heart_sample_ids\n",
    "gtex_heart_df = gtex_df[cols_to_keep]\n",
    "print(\"Shape of GTEx heart TPM data:\", gtex_heart_df.shape)\n",
    "\n",
    "# Display the first few rows\n",
    "gtex_heart_df.head()"
   ]
  },
  {
   "cell_type": "markdown",
   "metadata": {},
   "source": [
    "## 5. Loading the Human Reference Genome (GRCh38)\n",
    "\n",
    "We now load the human reference genome in FASTA format. This file will allow us to extract the nucleotide sequences for genes of interest. Here, we use Biopython’s `SeqIO` to parse the FASTA file."
   ]
  },
  {
   "cell_type": "code",
   "execution_count": null,
   "metadata": {},
   "outputs": [],
   "source": [
    "ref_genome_file = os.path.join('data', 'reference', 'Homo_sapiens.GRCh38.dna.primary_assembly.fa.gz')\n",
    "\n",
    "print(\"Reading reference genome (this may take a moment)...\")\n",
    "genome_records = list(SeqIO.parse(ref_genome_file, \"fasta\"))\n",
    "print(f\"Number of sequences in the reference genome: {len(genome_records)}\")\n",
    "\n",
    "# Display the first record's header\n",
    "print(genome_records[0].id)\n",
    "\n",
    "# For targeted analysis, you might extract sequences for specific chromosomes or genes later."
   ]
  },
  {
   "cell_type": "markdown",
   "metadata": {},
   "source": [
    "## 6. Integrating DNABERT_2 for DNA Embeddings and Sequence Analysis\n",
    "\n",
    "In this section, we outline the steps to use DNABERT_2 and its foundation model DNABERT‑S for generating DNA embeddings. We assume that the DNABERT_2 package has been installed (via the environment setup script) and that the model files are available in the cloned repository under `src/DNABERT_2`.\n",
    "\n",
    "### 6.1 Loading the DNABERT_2 Model\n",
    "\n",
    "For example, if using Hugging Face’s Transformers interface, you can load a pre-trained DNABERT_2 model. (Note: Replace `<model_name_or_path>` with the correct path if necessary.)"
   ]
  },
  {
   "cell_type": "code",
   "execution_count": null,
   "metadata": {},
   "outputs": [],
   "source": [
    "from transformers import BertTokenizer, BertModel\n",
    "\n",
    "# Example: Load DNABERT_2 (or DNABERT-S) model\n",
    "# Replace with the actual model directory if needed\n",
    "model_path = 'src/DNABERT_2'\n",
    "\n",
    "print(\"Loading DNABERT_2 tokenizer and model...\")\n",
    "tokenizer = BertTokenizer.from_pretrained(model_path, do_lower_case=False)\n",
    "model = BertModel.from_pretrained(model_path)\n",
    "\n",
    "print(\"DNABERT_2 model loaded successfully.\")\n",
    "\n",
    "# Example tokenization of a DNA sequence (using 6-mer tokenization if applicable)\n",
    "sequence = \"ATGCGTACGTAGCTAGCTAGCTAG\"\n",
    "tokens = tokenizer.tokenize(sequence)\n",
    "print(\"Tokenized sequence:\", tokens)"
   ]
  },
  {
   "cell_type": "markdown",
   "metadata": {},
   "source": [
    "### 6.2 Fine-Tuning for siRNA Target/Off-target Classification (Outline)\n",
    "\n",
    "The next steps (beyond this notebook) would involve preparing a labeled dataset of on-target and off-target sequences, fine-tuning the DNABERT_2 model on that data, and then evaluating its performance. The general workflow would include:\n",
    "\n",
    "1. **Data Preparation:** Create a TSV or CSV file with columns for the sequence and the label (e.g., `1` for on-target, `0` for off-target).\n",
    "2. **Fine-Tuning:** Use Hugging Face’s Trainer API or a custom training loop to fine-tune DNABERT_2 on your dataset.\n",
    "3. **Evaluation:** Evaluate the model using appropriate metrics (accuracy, precision, recall) and analyze the attention weights to interpret key motifs.\n",
    "\n",
    "Due to time constraints for a weekend project, we focus here on the data loading and preliminary steps. Detailed training scripts can be added later as needed."
   ]
  },
  {
   "cell_type": "markdown",
   "metadata": {},
   "source": [
    "## 7. Data Visualization and Preliminary Analysis\n",
    "\n",
    "Here, we perform some basic visualizations to inspect the GTEx heart expression data. For example, we can plot the distribution of TPM values for a gene of interest across heart samples."
   ]
  },
  {
   "cell_type": "code",
   "execution_count": null,
   "metadata": {},
   "outputs": [],
   "source": [
    "# Let's choose a gene of interest. The 'Name' column in the GTEx TPM file typically contains Ensembl gene IDs.\n",
    "# For demonstration, we pick the first gene in the dataset.\n",
    "gene_id = gtex_heart_df.iloc[0]['Name']\n",
    "print(\"Gene ID:\", gene_id)\n",
    "\n",
    "# Extract TPM values (skip the identifier columns)\n",
    "tpm_values = gtex_heart_df.iloc[0, 2:].astype(float)\n",
    "\n",
    "plt.figure(figsize=(8, 4))\n",
    "plt.hist(tpm_values, bins=30, color='skyblue', edgecolor='black')\n",
    "plt.title(f'TPM Distribution for Gene {gene_id}')\n",
    "plt.xlabel('TPM')\n",
    "plt.ylabel('Frequency')\n",
    "plt.show()"
   ]
  },
  {
   "cell_type": "markdown",
   "metadata": {},
   "source": [
    "## 8. Conclusions and Next Steps\n",
    "\n",
    "In this notebook, we have:\n",
    "\n",
    "- Loaded and inspected GEO RNA-seq data (GSE55296) for cardiac myopathy.\n",
    "- Processed GTEx data to extract heart-specific RNA-seq TPM values and sample metadata.\n",
    "- Parsed the human reference genome for potential sequence extraction.\n",
    "- Outlined the integration of DNABERT_2 (and DNABERT‑S) for generating DNA embeddings and fine-tuning on siRNA target classification.\n",
    "\n",
    "### Next Steps:\n",
    "\n",
    "1. **Refine Data Parsing:** Develop more robust parsing functions for the GEO series matrix to extract sample-specific expression data.\n",
    "2. **Sequence Extraction:** Use the reference genome and gene annotations (e.g., from ENSEMBL) to extract nucleotide sequences for key genes.\n",
    "3. **Model Fine-Tuning:** Prepare a labeled dataset and fine-tune the DNABERT_2 model for on-target/off-target classification.\n",
    "4. **Advanced Visualization:** Generate attention heatmaps and sequence logos to interpret key motifs identified by DNABERT_2.\n",
    "\n",
    "This notebook serves as the starting point for an integrated genomic analysis pipeline aimed at improving RNA therapeutic design."
   ]
  }
 ],
 "metadata": {
  "kernelspec": {
   "display_name": "Python 3.11",
   "language": "python",
   "name": "python3"
  },
  "language_info": {
   "name": "python",
   "version": "3.11"
  }
 },
 "nbformat": 4,
 "nbformat_minor": 5
}